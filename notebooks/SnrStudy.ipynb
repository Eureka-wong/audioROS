{
 "cells": [
  {
   "cell_type": "code",
   "execution_count": null,
   "metadata": {},
   "outputs": [],
   "source": [
    "import math\n",
    "import sys\n",
    "\n",
    "import IPython\n",
    "import IPython.display as ipd\n",
    "import matplotlib.pylab as plt\n",
    "import numpy as np\n",
    "import pandas as pd\n",
    "\n",
    "%reload_ext autoreload\n",
    "%autoreload 2\n",
    "\n",
    "%matplotlib inline\n",
    "#%matplotlib notebook\n",
    "\n",
    "from matplotlib import rcParams\n",
    "rcParams[\"figure.max_open_warning\"] = False"
   ]
  },
  {
   "cell_type": "code",
   "execution_count": null,
   "metadata": {},
   "outputs": [],
   "source": [
    "def plot_spectrogram(spec, freqs, max_freq=5000, ax=None):\n",
    "    if ax is None:\n",
    "        fig, ax = plt.subplots()\n",
    "        fig.set_size_inches(10, 5)\n",
    "        \n",
    "    ax.pcolorfast(range(spec.shape[1]), freqs[freqs<max_freq], np.log10(spec[freqs<max_freq]))\n",
    "    ax.set_ylabel('frequency [Hz]')\n",
    "    return ax"
   ]
  },
  {
   "cell_type": "markdown",
   "metadata": {},
   "source": [
    "# First study"
   ]
  },
  {
   "cell_type": "code",
   "execution_count": null,
   "metadata": {},
   "outputs": [],
   "source": [
    "from evaluate_data import read_df_from_wav, get_spectrogram\n",
    "\n",
    "freq = 1750\n",
    "position_dict = {\n",
    "    3: 'upper',\n",
    "    #4: 'upper',\n",
    "    5: 'current',\n",
    "    #6: 'current',\n",
    "    7: 'lower',\n",
    "    #8: 'lower',\n",
    "    14: 'lowest',\n",
    "    #15: 'lowest',\n",
    "}"
   ]
  },
  {
   "cell_type": "code",
   "execution_count": null,
   "metadata": {
    "scrolled": false
   },
   "outputs": [],
   "source": [
    "base_filename = f'../experiments/2021_01_07_snr_study/export/motors_nosnr_noprops_mono{freq}'\n",
    "\n",
    "df_specs = pd.DataFrame(columns=['number', 'spec', 'freqs'])\n",
    "for number, position_name in position_dict.items():\n",
    "    appendix = '' if number==0 else f'_{number}'\n",
    "    try:\n",
    "        filename = f'{base_filename}{appendix}.wav'\n",
    "        df_wav = read_df_from_wav(filename)\n",
    "    except FileNotFoundError:\n",
    "        print('skipping', filename)\n",
    "        continue\n",
    "    spec = get_spectrogram(df_wav)\n",
    "    freqs = df_wav.iloc[0].frequencies\n",
    "    \n",
    "    ax = plot_spectrogram(spec, freqs, max_freq=5000)\n",
    "    ax.set_title(position_name)\n",
    "    \n",
    "    df_specs.loc[len(df_specs), :] = {\n",
    "        'number': number,\n",
    "        'spec':spec,\n",
    "        'freqs':freqs\n",
    "    }"
   ]
  },
  {
   "cell_type": "code",
   "execution_count": null,
   "metadata": {},
   "outputs": [],
   "source": [
    "time_window_dict =  {\n",
    "    'buzzer only': (range(10, 20), '-'),\n",
    "    'buzzer and props': (range(80, 90), ':')\n",
    "}\n",
    "max_freq = 16000\n",
    "\n",
    "fig, axs = plt.subplots(1, len(df_specs), sharey=True, squeeze=False)\n",
    "[ax.grid(which='both') for ax in axs.flatten()]\n",
    "fig.set_size_inches(20, 5)\n",
    "for title, (time_window, ls) in time_window_dict.items():\n",
    "    \n",
    "    fig, ax  = plt.subplots()\n",
    "    fig.set_size_inches(20, 5)\n",
    "    \n",
    "    for i, row in df_specs.iterrows():\n",
    "        spec = row.spec\n",
    "        freqs = row.freqs\n",
    "\n",
    "\n",
    "        spec_window = spec[:, time_window] \n",
    "\n",
    "        ax.semilogy(freqs, np.mean(spec_window, axis=1), label=position_dict[row.number], color=f'C{i}')\n",
    "        axs[0, i].semilogy(freqs, np.mean(spec_window, axis=1), color=f'C{i}', ls=ls, label=title)\n",
    "        axs[0, i].set_xlim(0, max_freq)\n",
    "        axs[0, i].set_title(position_dict[row.number])\n",
    "        \n",
    "    axs[0, i].legend(loc='upper right')\n",
    "    axs[0, i].semilogy()\n",
    "    \n",
    "    ax.legend(loc='upper right')\n",
    "    ax.set_title(title)\n",
    "    ax.grid(which='both')\n",
    "    ax.set_xlim(0, max_freq)"
   ]
  },
  {
   "cell_type": "code",
   "execution_count": null,
   "metadata": {
    "scrolled": false
   },
   "outputs": [],
   "source": [
    "fig = plt.figure()\n",
    "fig.set_size_inches(15, 15)\n",
    "plt.loglog(freqs, np.mean(spec_window, axis=1), color=f'C{i}')\n",
    "plt.grid(which='both')"
   ]
  },
  {
   "cell_type": "markdown",
   "metadata": {},
   "source": [
    "# Second study"
   ]
  },
  {
   "cell_type": "code",
   "execution_count": null,
   "metadata": {
    "scrolled": false
   },
   "outputs": [],
   "source": [
    "exp_dict = {\n",
    "    '45000': 'motors_nosnr_noprops_None.wav',\n",
    "    '55000': 'motors_nosnr_noprops_None_55000.wav',\n",
    "    'mono': 'nomotors_nosnr_noprops_mono3125.wav',\n",
    "    'mono 55000': 'motors_nosnr_noprops_mono3125_55000.wav',\n",
    "    'mono 45000': 'motors_nosnr_noprops_mono3125.wav',\n",
    "    'sweep': 'nomotors_nosnr_noprops_sweep.wav',\n",
    "    'sweep 45000': 'motors_nosnr_noprops_sweep.wav',\n",
    "}\n",
    "\n",
    "freq = 3125\n",
    "#base_filename = f'../experiments/2021_01_14_snr_study/export/'\n",
    "#base_filename = f'../experiments/2021_01_15_snr_study/export/'\n",
    "base_filename = f'../experiments/2021_01_15_snr_study_2/export/'\n",
    "\n",
    "df_specs = pd.DataFrame(columns=['title', 'spec', 'freqs'])\n",
    "for title, fname in exp_dict.items():\n",
    "    try:\n",
    "        filename = base_filename + fname\n",
    "        df_wav = read_df_from_wav(filename)\n",
    "    except FileNotFoundError:\n",
    "        print('skipping', filename)\n",
    "        continue\n",
    "    spec = get_spectrogram(df_wav)\n",
    "    freqs = df_wav.iloc[0].frequencies\n",
    "    \n",
    "    ax = plot_spectrogram(spec, freqs, max_freq=5000)\n",
    "    ax.set_title(title)\n",
    "    \n",
    "    df_specs.loc[len(df_specs), :] = {\n",
    "        'title': title,\n",
    "        'spec':spec,\n",
    "        'freqs':freqs\n",
    "    }"
   ]
  },
  {
   "cell_type": "code",
   "execution_count": null,
   "metadata": {},
   "outputs": [],
   "source": [
    "title_list = ['mono', '55000', 'mono 55000']\n",
    "title_list = ['mono', '45000', 'mono 45000']\n",
    "ls_list = [':', ':', ':']\n",
    "start_time = 67\n",
    "max_freq = 5000\n",
    "min_freq = 100\n",
    "\n",
    "fig, ax = plt.subplots()\n",
    "for title, ls in zip(title_list, ls_list):\n",
    "    row = df_specs.loc[df_specs.title==title].iloc[0]\n",
    "    \n",
    "    spec = row.spec[:, start_time:]\n",
    "    freqs = row.freqs\n",
    "    #ax_spec = plot_spectrogram(spec, row.freqs)\n",
    "    #ax_spec.set_title(title)\n",
    "    #ax.loglog(row.freqs, np.mean(spec, axis=1), label=title)\n",
    "    ax.semilogy(freqs, np.mean(spec, axis=1), label=title, ls=ls)\n",
    "ax.set_title('average amplitude')\n",
    "ax.legend(loc='upper right')\n",
    "ax.set_xlabel('frequency [Hz]')\n",
    "ax.set_xlim(min_freq, max_freq)\n",
    "\n",
    "fig, ax = plt.subplots()\n",
    "spec_monoprops = df_specs.loc[df_specs.title=='mono 45000'].iloc[0].spec[:, start_time:]\n",
    "spec_props = df_specs.loc[df_specs.title=='45000'].iloc[0].spec[:, start_time:]\n",
    "ax.semilogy(freqs, np.mean(spec_monoprops, axis=1)/np.mean(spec_props, axis=1), label='ratio')\n",
    "ax.legend(loc='upper right')\n",
    "ax.set_xlabel('frequency [Hz]')\n",
    "ax.set_title('ratio of mono 45000 vs. 45000')\n",
    "ax.set_xlim(min_freq, max_freq)"
   ]
  },
  {
   "cell_type": "markdown",
   "metadata": {},
   "source": [
    "# propeller noise study"
   ]
  },
  {
   "cell_type": "code",
   "execution_count": null,
   "metadata": {},
   "outputs": [],
   "source": [
    "for thrust in [45000, 55000]:\n",
    "    row = df_specs.loc[df_specs.title==str(thrust)].iloc[0]\n",
    "    spec = row.spec[:, start_time:]\n",
    "    \n",
    "    mean = np.mean(spec, axis=1)\n",
    "    std = np.std(spec, axis=1)\n",
    "    \n",
    "    plt.figure()\n",
    "    plt.semilogy(row.freqs, mean)\n",
    "    plt.semilogy(row.freqs, mean+std)\n",
    "    plt.semilogy(row.freqs, std/mean)\n",
    "    #plt.errorbar(x=row.freqs, y=mean, yerr=1.0) #yerr=std)\n",
    "    plt.xlim(100, 5000)\n",
    "    plt.ylim(1e-3, 1e4)\n",
    "    plt.title(f'motor thrust: {thrust}')"
   ]
  },
  {
   "cell_type": "markdown",
   "metadata": {},
   "source": [
    "# sweep study"
   ]
  },
  {
   "cell_type": "code",
   "execution_count": null,
   "metadata": {},
   "outputs": [],
   "source": [
    "row_sweep = df_specs.loc[df_specs.title==\"sweep\"].iloc[0]\n",
    "max_bins = np.argmax(row_sweep.spec, axis=0)\n",
    "max_freqs = row_sweep.freqs[max_bins]\n",
    "\n",
    "#end_freq = max_freqs[np.argmin(np.abs(max_freqs - 4875))]\n",
    "#end_freq_idx = np.argmin(np.abs(row.freqs - end_freq))\n",
    "#end_idx = np.where(max_freqs == end_freq)[0][-1]\n",
    "\n",
    "start_freq = max_freqs[np.argmin(np.abs(max_freqs - 3000))]\n",
    "start_idx = np.where(max_freqs == start_freq)[0][0]\n",
    "print('start idx', start_idx)\n",
    "\n",
    "end_idx = np.where(max_freqs > 2000)[0][-1]\n",
    "\n",
    "plt.figure()\n",
    "#plt.plot(max_freqs[start_idx:end_idx])\n",
    "plt.plot(max_freqs)\n",
    "plt.axvline(start_idx, color='k')\n",
    "plt.axvline(end_idx, color='k')\n",
    "\n",
    "max_bins = max_bins[start_idx:end_idx]\n",
    "end_idx -= start_idx\n",
    "\n",
    "plt.figure()\n",
    "plt.plot(max_bins)"
   ]
  },
  {
   "cell_type": "code",
   "execution_count": null,
   "metadata": {
    "scrolled": false
   },
   "outputs": [],
   "source": [
    "start = 250 \n",
    "unique_bins = np.unique(max_bins[start:])\n",
    "\n",
    "fig, ax_all = plt.subplots()\n",
    "\n",
    "fig, axs = plt.subplots(len(unique_bins), sharey=True, sharex=True)\n",
    "fig.set_size_inches(10, len(unique_bins)*3)\n",
    "for j, title in enumerate([\"sweep\", \"sweep 45000\"]):\n",
    "    row = df_specs.loc[df_specs.title==title].iloc[0]\n",
    "\n",
    "    max_freqs = row.freqs[np.argmax(row.spec, axis=0)]\n",
    "    start_freq = max_freqs[np.argmin(np.abs(max_freqs - 3000))]\n",
    "    start_idx = np.where(max_freqs == start_freq)[0][0]\n",
    "\n",
    "    spec = row.spec[:, start_idx:]\n",
    "    freqs = row.freqs\n",
    "    times = range(spec.shape[1])\n",
    "\n",
    "    ax = plot_spectrogram(spec, freqs, max_freq=5000)\n",
    "    ax.set_title(title)\n",
    "\n",
    "    max_freqs = row.freqs[max_bins]\n",
    "    ax.plot(range(len(max_freqs)), max_freqs, color='white', ls=':')\n",
    "    ax.set_ylim(1000, 5000)\n",
    "    \n",
    "    ax.axvline(start, color='white', ls='-')\n",
    "    \n",
    "    max_amps = {}\n",
    "    for i, bin_ in enumerate(unique_bins):\n",
    "\n",
    "        freq = np.round(freqs[bin_])\n",
    "        # start from 1 to remove \"edge\" values\n",
    "        cut_indices = np.where(max_bins[start:]==bin_)[0][1:]\n",
    "        if not len(cut_indices):\n",
    "            continue\n",
    "\n",
    "        cut_spec = spec[:, start+cut_indices]\n",
    "        avg_spec = np.median(cut_spec, axis=1)\n",
    "        std_spec = np.std(cut_spec[bin_]) / avg_spec[bin_] * 100\n",
    "        \n",
    "        if len(cut_indices) >= 10:\n",
    "            max_amps[freq] = (avg_spec[bin_], std_spec)\n",
    "        axs[i].semilogy(freqs, avg_spec, ls=ls, label=f'std ratio: {std_spec:.0f}')\n",
    "        axs[i].legend(loc='upper right')\n",
    "        axs[i].set_title(f'{freq} Hz: average over {len(cut_indices)}')\n",
    "        axs[i].grid(which='major')\n",
    "    axs[i].set_ylim(1e-3, 1e3)\n",
    "    axs[i].set_xlim(1000, 5000)\n",
    "    \n",
    "    means = [v[0] for v in max_amps.values()]\n",
    "    stds = [v[1] for v in max_amps.values()]\n",
    "    ax_all.errorbar(list(max_amps.keys()), means, stds, marker='o', label=title+' mean', ls='-', color=f'C{j}')\n",
    "    #ax_all.semilogy(list(max_amps.keys()), stds, marker='o', label=title+' std', ls=':', color=f'C{j}')\n",
    "    ax_all.set_yscale('log')\n",
    "ax_all.legend()"
   ]
  },
  {
   "cell_type": "code",
   "execution_count": null,
   "metadata": {
    "scrolled": false
   },
   "outputs": [],
   "source": []
  },
  {
   "cell_type": "code",
   "execution_count": null,
   "metadata": {},
   "outputs": [],
   "source": []
  },
  {
   "cell_type": "code",
   "execution_count": null,
   "metadata": {},
   "outputs": [],
   "source": []
  }
 ],
 "metadata": {
  "kernelspec": {
   "display_name": "Python 3",
   "language": "python",
   "name": "python3"
  },
  "language_info": {
   "codemirror_mode": {
    "name": "ipython",
    "version": 3
   },
   "file_extension": ".py",
   "mimetype": "text/x-python",
   "name": "python",
   "nbconvert_exporter": "python",
   "pygments_lexer": "ipython3",
   "version": "3.6.9"
  },
  "toc": {
   "base_numbering": 1,
   "nav_menu": {},
   "number_sections": true,
   "sideBar": true,
   "skip_h1_title": false,
   "title_cell": "Table of Contents",
   "title_sidebar": "Contents",
   "toc_cell": false,
   "toc_position": {},
   "toc_section_display": true,
   "toc_window_display": false
  }
 },
 "nbformat": 4,
 "nbformat_minor": 4
}
