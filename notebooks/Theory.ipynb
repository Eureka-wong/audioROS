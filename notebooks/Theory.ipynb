{
 "cells": [
  {
   "cell_type": "code",
   "execution_count": null,
   "metadata": {},
   "outputs": [],
   "source": [
    "import math\n",
    "import sys\n",
    "\n",
    "import IPython\n",
    "import IPython.display as ipd\n",
    "import matplotlib.pylab as plt\n",
    "import numpy as np\n",
    "import pandas as pd\n",
    "\n",
    "%reload_ext autoreload\n",
    "%autoreload 2\n",
    "\n",
    "%matplotlib inline\n",
    "#%matplotlib notebook\n",
    "\n",
    "from matplotlib import rcParams\n",
    "rcParams[\"figure.max_open_warning\"] = False"
   ]
  },
  {
   "cell_type": "code",
   "execution_count": null,
   "metadata": {},
   "outputs": [],
   "source": [
    "from crazyflie_description_py.parameters import N_BUFFER, FS, TUKEY_ALPHA\n",
    "f = 3000\n",
    "scale = 0.1 \n",
    "times = np.arange(0, 1, step=1/FS)\n",
    "signal_full = np.sin(2*np.pi*f*times) + np.random.normal(scale=scale, size=times.shape)\n",
    "signal_buffer = signal_full[:N_BUFFER]"
   ]
  },
  {
   "cell_type": "code",
   "execution_count": null,
   "metadata": {},
   "outputs": [],
   "source": [
    "from scipy import signal\n",
    "freqs = np.fft.rfftfreq(N_BUFFER, 1/FS)\n",
    "\n",
    "fig, ax =plt.subplots()\n",
    "fig_f, ax_f =plt.subplots()\n",
    "fig_w, ax_w =plt.subplots()\n",
    "\n",
    "buffer_f = np.fft.rfft(signal_buffer)\n",
    "\n",
    "window_f = np.fft.rfft(np.ones(N_BUFFER))\n",
    "ax.plot(signal_buffer)\n",
    "ax_f.plot(freqs, np.abs(buffer_f), label='original')\n",
    "ax_w.plot(freqs, np.abs(window_f), label='original')\n",
    "\n",
    "for i, alpha in enumerate(np.logspace(-3, 0, 4)):\n",
    "    label = f'{alpha:.1e}'\n",
    "    window_tukey = signal.tukey(N_BUFFER, alpha=alpha)\n",
    "    signal_buffer_tukey = window_tukey * signal_buffer\n",
    "    ax.plot(signal_buffer_tukey + 2 * i + 2)\n",
    "    \n",
    "    buffer_tukey_f = np.fft.rfft(signal_buffer_tukey)\n",
    "    ax_f.plot(freqs, np.abs(buffer_tukey_f), label=label)\n",
    "    \n",
    "    window_tukey_f = np.fft.rfft(window_tukey)\n",
    "    ax_w.plot(freqs, np.abs(window_tukey_f), label=label)\n",
    "    \n",
    "ax_f.set_xlim(f-1500, f+1500)\n",
    "ax_w.set_xlim(0, 100)\n",
    "ax_f.set_yscale('log')\n",
    "#ax_w.set_yscale('log')\n",
    "ax_f.legend(loc='upper right')"
   ]
  },
  {
   "cell_type": "code",
   "execution_count": null,
   "metadata": {},
   "outputs": [],
   "source": []
  },
  {
   "cell_type": "code",
   "execution_count": null,
   "metadata": {},
   "outputs": [],
   "source": []
  },
  {
   "cell_type": "code",
   "execution_count": null,
   "metadata": {},
   "outputs": [],
   "source": []
  }
 ],
 "metadata": {
  "kernelspec": {
   "display_name": "Python 3",
   "language": "python",
   "name": "python3"
  },
  "language_info": {
   "codemirror_mode": {
    "name": "ipython",
    "version": 3
   },
   "file_extension": ".py",
   "mimetype": "text/x-python",
   "name": "python",
   "nbconvert_exporter": "python",
   "pygments_lexer": "ipython3",
   "version": "3.6.9"
  },
  "toc": {
   "base_numbering": 1,
   "nav_menu": {},
   "number_sections": true,
   "sideBar": true,
   "skip_h1_title": false,
   "title_cell": "Table of Contents",
   "title_sidebar": "Contents",
   "toc_cell": false,
   "toc_position": {},
   "toc_section_display": true,
   "toc_window_display": false
  }
 },
 "nbformat": 4,
 "nbformat_minor": 4
}
