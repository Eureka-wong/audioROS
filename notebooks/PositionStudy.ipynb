{
 "cells": [
  {
   "cell_type": "code",
   "execution_count": null,
   "metadata": {},
   "outputs": [],
   "source": [
    "import math\n",
    "import sys\n",
    "\n",
    "import IPython\n",
    "import IPython.display as ipd\n",
    "import matplotlib.pylab as plt\n",
    "import numpy as np\n",
    "import pandas as pd\n",
    "\n",
    "%reload_ext autoreload\n",
    "%autoreload 2\n",
    "\n",
    "%matplotlib inline\n",
    "#%matplotlib notebook\n",
    "\n",
    "from matplotlib import rcParams\n",
    "rcParams[\"figure.max_open_warning\"] = False"
   ]
  },
  {
   "cell_type": "code",
   "execution_count": null,
   "metadata": {},
   "outputs": [],
   "source": [
    "def plot_spectrogram(spec, freqs, max_freq=5000, ax=None):\n",
    "    if ax is None:\n",
    "        fig, ax = plt.subplots()\n",
    "        fig.set_size_inches(10, 5)\n",
    "        \n",
    "    ax.pcolorfast(range(spec.shape[1]), freqs[freqs<max_freq], np.log10(spec[freqs<max_freq]))\n",
    "    ax.set_ylabel('frequency [Hz]')\n",
    "    return ax"
   ]
  },
  {
   "cell_type": "markdown",
   "metadata": {},
   "source": [
    "# First study"
   ]
  },
  {
   "cell_type": "code",
   "execution_count": null,
   "metadata": {},
   "outputs": [],
   "source": [
    "from evaluate_data import read_df_from_wav, get_spectrogram\n",
    "\n",
    "freq = 1750\n",
    "position_dict = {\n",
    "    3: 'upper',\n",
    "    #4: 'upper',\n",
    "    5: 'current',\n",
    "    #6: 'current',\n",
    "    7: 'lower',\n",
    "    #8: 'lower',\n",
    "    14: 'lowest',\n",
    "    #15: 'lowest',\n",
    "}"
   ]
  },
  {
   "cell_type": "code",
   "execution_count": null,
   "metadata": {
    "scrolled": false
   },
   "outputs": [],
   "source": [
    "base_filename = f'../experiments/2021_01_07_snr_study/export/motors_nosnr_noprops_mono{freq}'\n",
    "\n",
    "df_specs = pd.DataFrame(columns=['number', 'spec', 'freqs'])\n",
    "for number, position_name in position_dict.items():\n",
    "    appendix = '' if number==0 else f'_{number}'\n",
    "    try:\n",
    "        filename = f'{base_filename}{appendix}.wav'\n",
    "        df_wav = read_df_from_wav(filename)\n",
    "    except FileNotFoundError:\n",
    "        print('skipping', filename)\n",
    "        continue\n",
    "    spec = get_spectrogram(df_wav)\n",
    "    freqs = df_wav.iloc[0].frequencies\n",
    "    \n",
    "    ax = plot_spectrogram(spec, freqs, max_freq=5000)\n",
    "    ax.set_title(position_name)\n",
    "    \n",
    "    df_specs.loc[len(df_specs), :] = {\n",
    "        'number': number,\n",
    "        'spec':spec,\n",
    "        'freqs':freqs\n",
    "    }"
   ]
  },
  {
   "cell_type": "code",
   "execution_count": null,
   "metadata": {},
   "outputs": [],
   "source": [
    "time_window_dict =  {\n",
    "    'buzzer only': range(10, 20),\n",
    "    'buzzer and props': range(80, 90)\n",
    "}\n",
    "\n",
    "fig, axs = plt.subplots(1, len(df_specs), sharey=True)\n",
    "fig.set_size_inches(20, 5)\n",
    "for title, time_window in time_window_dict.items():\n",
    "    \n",
    "    fig, ax  = plt.subplots()\n",
    "    fig.set_size_inches(20, 5)\n",
    "    \n",
    "    for i, row in df_specs.iterrows():\n",
    "        spec = row.spec\n",
    "        freqs = row.freqs\n",
    "\n",
    "        max_freq = 16000\n",
    "\n",
    "        spec_window = spec[:, time_window] \n",
    "        spec_window = spec_window[freqs<max_freq, :]\n",
    "\n",
    "        ax.semilogy(freqs[freqs<max_freq], np.mean(spec_window, axis=1), label=position_dict[row.number], \n",
    "                    color=f'C{i}')\n",
    "        axs[i].semilogy(freqs[freqs<max_freq], np.mean(spec_window, axis=1), color=f'C{i}')\n",
    "        axs[i].set_title(position_dict[row.number])\n",
    "    ax.legend(loc='upper right')\n",
    "    ax.set_title(title)"
   ]
  },
  {
   "cell_type": "code",
   "execution_count": null,
   "metadata": {
    "scrolled": true
   },
   "outputs": [],
   "source": [
    "fig = plt.figure()\n",
    "fig.set_size_inches(15, 15)\n",
    "plt.loglog(freqs[freqs<max_freq], np.mean(spec_window, axis=1), color=f'C{i}')\n",
    "plt.grid(which='both')"
   ]
  },
  {
   "cell_type": "markdown",
   "metadata": {},
   "source": [
    "# Sweep study"
   ]
  },
  {
   "cell_type": "code",
   "execution_count": null,
   "metadata": {
    "scrolled": false
   },
   "outputs": [],
   "source": [
    "exp_dict = {\n",
    "    '45000': 'motors_nosnr_noprops_None.wav',\n",
    "    '55000': 'motors_nosnr_noprops_None_55000.wav',\n",
    "    'mono': 'nomotors_nosnr_noprops_mono3125.wav',\n",
    "    'mono 55000': 'motors_nosnr_noprops_mono3125_55000.wav',\n",
    "    'mono 45000': 'motors_nosnr_noprops_mono3125.wav',\n",
    "    'sweep': 'nomotors_nosnr_noprops_sweep.wav',\n",
    "    'sweep 45000': 'motors_nosnr_noprops_sweep.wav',\n",
    "}\n",
    "\n",
    "freq = 3125\n",
    "#base_filename = f'../experiments/2021_01_14_snr_study/export/'\n",
    "#base_filename = f'../experiments/2021_01_15_snr_study/export/'\n",
    "base_filename = f'../experiments/2021_01_15_snr_study_2/export/'\n",
    "\n",
    "df_specs = pd.DataFrame(columns=['number', 'spec', 'freqs'])\n",
    "for title, fname in exp_dict.items():\n",
    "    try:\n",
    "        filename = base_filename + fname\n",
    "        df_wav = read_df_from_wav(filename)\n",
    "    except FileNotFoundError:\n",
    "        print('skipping', filename)\n",
    "        continue\n",
    "    spec = get_spectrogram(df_wav)\n",
    "    freqs = df_wav.iloc[0].frequencies\n",
    "    \n",
    "    ax = plot_spectrogram(spec, freqs, max_freq=5000)\n",
    "    ax.set_title(title)\n",
    "    \n",
    "    df_specs.loc[len(df_specs), :] = {\n",
    "        'title': title,\n",
    "        'spec':spec,\n",
    "        'freqs':freqs\n",
    "    }"
   ]
  },
  {
   "cell_type": "code",
   "execution_count": null,
   "metadata": {},
   "outputs": [],
   "source": []
  }
 ],
 "metadata": {
  "kernelspec": {
   "display_name": "Python 3",
   "language": "python",
   "name": "python3"
  },
  "language_info": {
   "codemirror_mode": {
    "name": "ipython",
    "version": 3
   },
   "file_extension": ".py",
   "mimetype": "text/x-python",
   "name": "python",
   "nbconvert_exporter": "python",
   "pygments_lexer": "ipython3",
   "version": "3.6.9"
  },
  "toc": {
   "base_numbering": 1,
   "nav_menu": {},
   "number_sections": true,
   "sideBar": true,
   "skip_h1_title": false,
   "title_cell": "Table of Contents",
   "title_sidebar": "Contents",
   "toc_cell": false,
   "toc_position": {},
   "toc_section_display": true,
   "toc_window_display": false
  }
 },
 "nbformat": 4,
 "nbformat_minor": 4
}
