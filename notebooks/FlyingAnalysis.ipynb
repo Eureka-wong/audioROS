{
 "cells": [
  {
   "cell_type": "code",
   "execution_count": null,
   "metadata": {},
   "outputs": [],
   "source": [
    "import math\n",
    "import sys\n",
    "\n",
    "import IPython\n",
    "import IPython.display as ipd\n",
    "import matplotlib.pylab as plt\n",
    "import numpy as np\n",
    "import pandas as pd\n",
    "\n",
    "%reload_ext autoreload\n",
    "%autoreload 2\n",
    "\n",
    "%matplotlib inline\n",
    "#%matplotlib notebook\n",
    "\n",
    "from matplotlib import rcParams\n",
    "rcParams[\"figure.max_open_warning\"] = False"
   ]
  },
  {
   "cell_type": "code",
   "execution_count": null,
   "metadata": {},
   "outputs": [],
   "source": [
    "from wall_analysis import parse_experiments\n",
    "exp_name = '2020_12_18_stepper'; \n",
    "fname = f'results/{exp_name}_real.pkl'\n",
    "\n",
    "try:\n",
    "    df_total = pd.read_pickle(fname)\n",
    "    print('read', fname)\n",
    "except:\n",
    "    answer = input('Run wall_analysis.py to parse experiments? (y/[n])') or 'n'\n",
    "    if answer == 'y':\n",
    "        df_total = parse_experiments(exp_name)\n",
    "        pd.to_pickle(df_total, fname)\n",
    "        print('saved', fname)"
   ]
  },
  {
   "cell_type": "code",
   "execution_count": null,
   "metadata": {},
   "outputs": [],
   "source": [
    "df_total.tail()"
   ]
  },
  {
   "cell_type": "markdown",
   "metadata": {},
   "source": [
    "# Preprocessing\n",
    "\n",
    "## a. compute distance estimates\n",
    "\n",
    "TODO: this part is hacky and will be improved by getting imu estimates rather than flow dx/dy estimates, which turn out to be very unreliable."
   ]
  },
  {
   "cell_type": "code",
   "execution_count": null,
   "metadata": {
    "scrolled": false
   },
   "outputs": [],
   "source": [
    "from wall_analysis import add_distance_estimates\n",
    "\n",
    "VELOCITY = 0.05 # [m/s], parameter in crazyflie\n",
    "D_START = 0.6 # [m], starting distance \n",
    "\n",
    "df_total = df_total.assign(d_estimate=None) # initialize df_estimate\n",
    "df_total = df_total.apply(add_distance_estimates, axis=1)\n",
    "\n",
    "for i, row in df_total.iterrows():\n",
    "    \n",
    "    plt.figure()\n",
    "    df_total.iloc[i] = add_distance_estimates(row, ax=plt.gca())\n",
    "    #plt.plot(row.yaw_deg)u\n",
    "    if row.z is not None:\n",
    "        plt.plot(row.seconds, row.z, color='C2')\n",
    "    plt.xlabel('time [s]')\n",
    "    plt.ylabel('z [mm]')\n",
    "    #plt.ylim(-90, 90)\n",
    "    plt.ylim(0, 650)\n",
    "    #plt.xlim(MIN_S, MAX_S)\n",
    "    \n",
    "    fig, ax = plt.subplots()\n",
    "    ax.plot(row.positions[:, 0], label='x', color='C0')\n",
    "    ax.plot(row.positions[:, 1], label='y', color='C1')\n",
    "    ax.plot(row.positions[:, 2], label='z', color='C2')\n",
    "    #ax.plot(row.dx)\n",
    "    #ax.plot(row.dy)\n",
    "    ax.set_ylim(-10, 50)\n",
    "    #ax.set_xlim(0, 1000)\n",
    "    ax.set_xlabel('position idx [-]')\n",
    "    ax.set_ylabel('x, y [mm]')\n",
    "    ax.legend(loc='lower left')\n",
    "    ax.set_title(\"lateral movement, \" + row.source + row.appendix)"
   ]
  },
  {
   "cell_type": "markdown",
   "metadata": {},
   "source": [
    "## b. compute spectrogram"
   ]
  },
  {
   "cell_type": "code",
   "execution_count": null,
   "metadata": {},
   "outputs": [],
   "source": [
    "from crazyflie_description_py.parameters import N_BUFFER, FS\n",
    "from wall_analysis import add_spectrogram\n",
    "all_frequencies = np.ceil(np.fft.rfftfreq(N_BUFFER, 1/FS))\n",
    "df_total = df_total.assign(spectrogram=None)\n",
    "df_total = df_total.apply(add_spectrogram, axis=1)"
   ]
  },
  {
   "cell_type": "markdown",
   "metadata": {},
   "source": [
    "# Analysis"
   ]
  },
  {
   "cell_type": "markdown",
   "metadata": {},
   "source": [
    "## 1. SNR study"
   ]
  },
  {
   "cell_type": "code",
   "execution_count": null,
   "metadata": {},
   "outputs": [],
   "source": [
    "def plot_spectrogram(ax, row, min_freq, max_freq, mic_idx=0, **kwargs):\n",
    "    plot_freq = (all_frequencies > min_freq) & (all_frequencies < max_freq)\n",
    "    plot_times = ~np.isnan(row.d_estimate)\n",
    "    assert np.any(plot_times)\n",
    "    #print('time window with valid distances:', np.where(plot_times)[0][[0, -1]])\n",
    "    spec = row.spectrogram[plot_freq, :, mic_idx][:-1, :]\n",
    "    spec = spec[:, plot_times][:, :-1]\n",
    "    spec[spec > 0] = np.log10(spec[spec > 0])\n",
    "    spec[spec == 0] = np.nan\n",
    "    \n",
    "    if row.distance == -51:\n",
    "        d_increasing = row.d_estimate[plot_times][::-1]\n",
    "        spec_increasing = spec[:, ::-1]\n",
    "    else:\n",
    "        d_increasing = row.d_estimate[plot_times]\n",
    "        spec_increasing = spec\n",
    "    ax.pcolorfast(d_increasing, all_frequencies[plot_freq], spec_increasing, **kwargs)\n",
    "\n",
    "def plot_total(ax, row, min_freq, max_freq, mic_idx=0, method=np.nanmean, **kwargs):\n",
    "    plot_freq = (all_frequencies > min_freq) & (all_frequencies < max_freq)\n",
    "    plot_times = ~np.isnan(row.d_estimate)\n",
    "    spec = row.spectrogram[plot_freq, :, mic_idx]\n",
    "    spec[np.isnan(spec)] = 0.0\n",
    "    assert np.all(spec >= 0), spec[np.where(spec<0)]\n",
    "    spec = spec[:, plot_times]\n",
    "    spec[spec == 0] = np.nan\n",
    "    total = method(spec, axis=1)\n",
    "    freq = all_frequencies[plot_freq]\n",
    "    ax.plot(total, freq, **kwargs)\n",
    "    ax.set_xlabel(method.__name__ + ' of spectrogram')"
   ]
  },
  {
   "cell_type": "code",
   "execution_count": null,
   "metadata": {},
   "outputs": [],
   "source": [
    "print(df_total.appendix.unique())\n",
    "print(df_total.source.unique())\n",
    "print(df_total.distance.unique())\n",
    "#appendix = \"_new\"\n",
    "#source = \"mono3125\""
   ]
  },
  {
   "cell_type": "code",
   "execution_count": null,
   "metadata": {
    "scrolled": false
   },
   "outputs": [],
   "source": [
    "from wall_analysis import filter_by_dicts\n",
    "\n",
    "\n",
    "min_freq = 100\n",
    "max_freq = 5000\n",
    "mic_idx = 0\n",
    "\n",
    "filter_dict = [{\"mic_type\":mic_type}]\n",
    "dfs = filter_by_dicts(df_total, filter_dict)\n",
    "\n",
    "dfs = dfs.sort_values(by=['motors', 'source'], axis=0)\n",
    "#maxi = np.nanmax(np.concatenate([*dfs.spectrogram], axis=1))\n",
    "for motors, df_motors in dfs.groupby('motors'):\n",
    "    fig, ax = plt.subplots()\n",
    "    fig.set_size_inches(10, 5)\n",
    "    i_col = 0\n",
    "    for i, row in df_motors.iterrows():\n",
    "        source = row.source\n",
    "        if source in [\"mono1750\", \"mono3875\", \"sweep_fast\"]:\n",
    "            continue\n",
    "        i_col += 1\n",
    "        fig, axs = plt.subplots(1, 2, squeeze=False, sharey=True)\n",
    "        fig.set_size_inches(10, 5)\n",
    "        plot_spectrogram(axs[0, 0], row, min_freq, max_freq, mic_idx=mic_idx)\n",
    "        plot_total(axs[0, 1], row, min_freq, max_freq, mic_idx=0, method=np.nanmean, color=f\"C{i_col}\")\n",
    "        #axs[0, 0].set_xlabel(f'seconds [s]')\n",
    "        axs[0, 0].set_xlabel(f'distance [m]')\n",
    "        axs[0, 0].set_ylabel('frequency [Hz]')\n",
    "        fig.suptitle(f'spectrogram of mic{mic_idx}, source {source}, motors {row.motors}, appendix {row.appendix}')\n",
    "        #axs[0, 1].set_xlim([0, maxi])\n",
    "\n",
    "        plot_total(ax, row, min_freq, max_freq, mic_idx=0, method=np.nanmean, label=source, color=f\"C{i_col}\")\n",
    "        if \"mono\" in source:\n",
    "            freq = int(source.strip(\"mono\"))\n",
    "            ax.axhline(freq, color=f\"C{i_col}\", ls=\":\")\n",
    "            axs[0, 1].axhline(freq, color=f\"C{i_col}\", ls=\":\")\n",
    "    #ax.set_xscale('log')\n",
    "    ax.set_ylabel('frequency [Hz]')\n",
    "    ax.legend()\n",
    "    ax.set_title(f'motors: {motors}')"
   ]
  },
  {
   "cell_type": "markdown",
   "metadata": {},
   "source": [
    "## 2. Propeller noise study"
   ]
  },
  {
   "cell_type": "code",
   "execution_count": null,
   "metadata": {},
   "outputs": [],
   "source": [
    "import scipy.signal\n",
    "\n",
    "appendix = \"\"\n",
    "source = \"None\"\n",
    "mic_type = \"audio_deck\"\n",
    "\n",
    "filter_dict = {\"source\":source, \"appendix\":appendix, \"mic_type\":mic_type, \"distance\":51}\n",
    "df_sources = filter_by_dicts(df_total, [filter_dict])\n",
    "assert len(df_sources) == 1, df_sources\n",
    "row = df_sources.iloc[0]\n",
    "\n",
    "\n",
    "plt.figure()\n",
    "times_idx = ~np.isnan(row.d_estimate)\n",
    "spec = row.spectrogram[:, times_idx, :]\n",
    "    \n",
    "mask = (all_frequencies > min_freq) & (all_frequencies < max_freq)\n",
    "spec[spec==0] = np.nan\n",
    "spec_average = np.nanmean(spec[mask, :, :], axis=(1, 2))\n",
    "\n",
    "max_indices = scipy.signal.find_peaks(spec_average, height=5)[0][:3]\n",
    "#max_indices = np.argsort(spec_average)[::-1][:3]\n",
    "plt.plot(all_frequencies[mask], spec_average)\n",
    "[plt.axvline(all_frequencies[mask][m], color=f'C{j}', label=f'peak{j}', ls=':') for j, m in enumerate(max_indices)]\n",
    "plt.grid(which='both')\n",
    "plt.title('total spectrogram, average of 4 mics')\n",
    "print('max frequencies:', all_frequencies[mask][max_indices])"
   ]
  },
  {
   "cell_type": "code",
   "execution_count": null,
   "metadata": {},
   "outputs": [],
   "source": [
    "#fig, axs = plt.subplots(len(max_indices), n_mics, sharex=True, squeeze=False, sharey=True)\n",
    "\n",
    "n_harmonics = 4\n",
    "fig, axs = plt.subplots(n_harmonics, n_mics, sharex=True, squeeze=False)#, sharey=True)\n",
    "fig.set_size_inches(20, 10)\n",
    "\n",
    "# choose only times where the max snr bin is given. \n",
    "#freqs = all_frequencies[mask][max_indices]\n",
    "freq_max = all_frequencies[mask][max_indices][1] \n",
    "times_idx = np.where(row.frequencies_matrix[:, 1] == freq_max)[0]\n",
    "if not len(times_idx):\n",
    "    print(f'never have {freq_max} as strongest index: {row.frequencies_matrix[:, 1]}')\n",
    "distances = row.d_estimate[times_idx] * 100\n",
    "\n",
    "#for j, f_idx in enumerate(max_indices):\n",
    "for j in range(n_harmonics):\n",
    "    freq = freq_max * (j + 1)\n",
    "    print(freq)\n",
    "    f_idx = np.where(all_frequencies[mask] == freq)[0][0]\n",
    "    #freq = int([f_idx])\n",
    "    spec = row.spectrogram[mask, :, :]\n",
    "    \n",
    "    for i in range(n_mics):\n",
    "        spec_here = spec[f_idx, times_idx, i]\n",
    "        #axs[j, i].plot(row.seconds[times_idx], spec, color=f'C{j}', label=f'{f}')\n",
    "        axs[j, i].plot(distances, spec_here, color=f'C{j}', label=f'{freq:.0f}Hz')\n",
    "        axs[j, i].legend(loc='upper left')\n",
    "        axs[j, i].set_title(f'mic{i}')\n",
    "    #[axs[0, i].set_xlim(5, 20) for i in range(n_mics)]\n",
    "    #[axs[0, i].set_xlim(5, 60) for i in range(n_mics)]\n",
    "    [axs[-1, i].set_xlabel('distance [cm]') for i in range(n_mics)]\n",
    "    pass"
   ]
  },
  {
   "cell_type": "markdown",
   "metadata": {},
   "source": [
    "## 1. frequency selection\n",
    "\n",
    "Investigate \n",
    "- what bins are chosen by forced scheme (black dots below)\n",
    "- when spectrogram at given bin is nonzero \n",
    "\n",
    "Above suggests that even when we do not play the given bins, there is significant propeller noise there (thus they are chosen among the 32 strongest frequency bins). The only exception is bin 2375, which is very clean."
   ]
  },
  {
   "cell_type": "code",
   "execution_count": null,
   "metadata": {},
   "outputs": [],
   "source": [
    "print('available sources:', df_total.source.unique())\n",
    "filter_dict = {\n",
    "    'source': 'None',\n",
    "    #'source': 'mono1750',\n",
    "    #'source': 'mono2375',\n",
    "    #'source': 'mono3125',\n",
    "    #'source': 'mono3875',\n",
    "    #'source': 'sweep_slow',\n",
    "    #'source': 'sweep_fast',\n",
    "    'appendix': '_new'\n",
    "}\n",
    "rows = filter_by_dicts(df_total, [filter_dict])\n",
    "assert len(rows) == 1\n",
    "row = rows.iloc[0]"
   ]
  },
  {
   "cell_type": "code",
   "execution_count": null,
   "metadata": {},
   "outputs": [],
   "source": [
    "for source in df_total.source.unique():\n",
    "    #if not 'mono'in source:\n",
    "        #continue\n",
    "    filter_dict['source'] = source\n",
    "    rows = filter_by_dicts(df_total, [filter_dict])\n",
    "    assert len(rows) == 1\n",
    "    row = rows.iloc[0]\n",
    "    \n",
    "    for mic_idx in [2]:\n",
    "        fig, ax = plt.subplots()\n",
    "        fig.set_size_inches(10, 5)\n",
    "\n",
    "        plot_spectrogram(ax, row, min_freq=100, max_freq=5000, mic_idx=mic_idx)\n",
    "        [ax.axhline(f, label=f'{f}', color=f'C{i}', ls=':') for i, f in enumerate(FREQS)]\n",
    "        ax.set_title(row.source + row.appendix + f\" mic{mic_idx} snr:{row.snr}\")\n",
    "        ax.legend(loc='lower left')"
   ]
  },
  {
   "cell_type": "code",
   "execution_count": null,
   "metadata": {},
   "outputs": [],
   "source": [
    "print(filter_dict)\n",
    "rows = filter_by_dicts(df_total, [filter_dict])\n",
    "assert len(rows) == 1\n",
    "row = rows.iloc[0]\n",
    "\n",
    "strongest_bin = row.frequencies_matrix[:, 0]\n",
    "fig = plt.figure()\n",
    "fig.set_size_inches(10, 5)\n",
    "plt.scatter(row.seconds, strongest_bin, color='k', label='forced')\n",
    "\n",
    "#mic_indices = [0]\n",
    "mic_indices = range(n_mics)\n",
    "\n",
    "for i, f in enumerate(FREQS):\n",
    "    plt.axhline(f, label=f'{f}', color=f'C{i}')\n",
    "    \n",
    "    # find out where the spectrogram is non-zero for this frequency bin. \n",
    "    f_idx = np.where(f == all_frequencies)[0][0]\n",
    "    \n",
    "    spec_total = np.mean(row.spectrogram[f_idx, :, mic_indices], axis=0)\n",
    "    spec_total -= np.min(spec_total)\n",
    "    spec_total *= 50 #/ np.max(spec_total)\n",
    "    times = row.seconds[spec_total > 0]\n",
    "    plt.scatter(times, f + spec_total[spec_total > 0], color=f'C{i}')\n",
    "    plt.legend()\n",
    "    if len(times) > 0:\n",
    "        plt.xlim(times[0], 18)\n",
    "    #plt.xlim(times[0], times[-1])"
   ]
  },
  {
   "cell_type": "markdown",
   "metadata": {},
   "source": [
    "## 2. interference studies"
   ]
  },
  {
   "cell_type": "code",
   "execution_count": null,
   "metadata": {},
   "outputs": [],
   "source": [
    "appendix = \"_new\"\n",
    "\n",
    "freqs = FREQS\n",
    "\n",
    "fig, axs = plt.subplots(len(freqs), n_mics, sharex=True)#, sharey=True)\n",
    "fig.set_size_inches(20, 20)\n",
    "for j, f in enumerate(freqs): \n",
    "    f_idx = np.where(f == all_frequencies)[0][0]\n",
    "    \n",
    "    source = f\"mono{f}\"\n",
    "    df_sources = filter_by_dicts(df_total, [{\"source\":source, \"appendix\":appendix}])\n",
    "    assert len(df_sources) == 1\n",
    "    row = df_sources.iloc[0]\n",
    "    \n",
    "    # forced\n",
    "    #times_idx = np.where(f == row.frequencies_matrix[:, 0])[0]\n",
    "    # automatic\n",
    "    #times_idx = np.where(np.sum(spectrogram[f_idx, :, :], axis=1) > 0)[0]\n",
    "    times_idx = ~np.isnan(row.d_estimate)\n",
    "    distances = row.d_estimate[times_idx] * 100\n",
    "    \n",
    "    for i in range(n_mics):\n",
    "        spec = row.spectrogram[f_idx, times_idx, i]\n",
    "        #axs[j, i].plot(row.seconds[times_idx], spec, color=f'C{j}', label=f'{f}')\n",
    "        axs[j, i].plot(distances, spec, color=f'C{j}', label=f'{f} Hz')\n",
    "        axs[j, i].legend(loc='upper left')\n",
    "        axs[j, i].set_title(f'mic{i}')\n",
    "#[axs[0, i].set_xlim(5, 20) for i in range(n_mics)]\n",
    "#[axs[0, i].set_xlim(5, 60) for i in range(n_mics)]\n",
    "[axs[-1, i].set_xlabel('distance [cm]') for i in range(n_mics)]\n",
    "pass"
   ]
  },
  {
   "cell_type": "code",
   "execution_count": null,
   "metadata": {
    "scrolled": false
   },
   "outputs": [],
   "source": [
    "freqs = FREQS\n",
    "\n",
    "sources = ['sweep_fast', 'sweep_slow']\n",
    "appendix = \"_new\"\n",
    "for source in sources:\n",
    "    \n",
    "    df_sources = filter_by_dicts(df_total, [{\"source\":source, \"appendix\":appendix}])\n",
    "    for i, row in df_sources.iterrows():\n",
    "        \n",
    "        fig, axs = plt.subplots(len(freqs), n_mics, sharex=True)#, sharey=True)\n",
    "        fig.set_size_inches(20, 20)\n",
    "        fig.suptitle(row.source + row.appendix, y=0.9)\n",
    "        for j, f in enumerate(freqs): \n",
    "            f_idx = np.where(f == all_frequencies)[0][0]\n",
    "\n",
    "            # forced\n",
    "            times_idx = np.where(f == row.frequencies_matrix[:, 0])[0]\n",
    "            # automatic\n",
    "            #times_idx = np.where(np.sum(spectrogram[f_idx, :, :], axis=1) > 0)[0]\n",
    "            #times_idx = ~np.isnan(row.d_estimate)\n",
    "            distances = row.d_estimate[times_idx] * 100\n",
    "\n",
    "            for i in range(n_mics):\n",
    "                spec = row.spectrogram[f_idx, times_idx, i]\n",
    "                #axs[j, i].plot(row.seconds[times_idx], spec, color=f'C{j}', label=f'{f}')\n",
    "                axs[j, i].plot(distances, spec, color=f'C{j}', label=f'{f}', marker='x')\n",
    "                axs[j, i].legend(loc='upper left')\n",
    "                axs[j, i].set_title(f'mic{i}')\n",
    "        #[axs[0, i].set_xlim(5, 20) for i in range(n_mics)]"
   ]
  },
  {
   "cell_type": "code",
   "execution_count": null,
   "metadata": {},
   "outputs": [],
   "source": []
  },
  {
   "cell_type": "code",
   "execution_count": null,
   "metadata": {},
   "outputs": [],
   "source": []
  },
  {
   "cell_type": "code",
   "execution_count": null,
   "metadata": {},
   "outputs": [],
   "source": []
  }
 ],
 "metadata": {
  "kernelspec": {
   "display_name": "Python 3",
   "language": "python",
   "name": "python3"
  },
  "language_info": {
   "codemirror_mode": {
    "name": "ipython",
    "version": 3
   },
   "file_extension": ".py",
   "mimetype": "text/x-python",
   "name": "python",
   "nbconvert_exporter": "python",
   "pygments_lexer": "ipython3",
   "version": "3.6.9"
  },
  "toc": {
   "base_numbering": 1,
   "nav_menu": {},
   "number_sections": true,
   "sideBar": true,
   "skip_h1_title": false,
   "title_cell": "Table of Contents",
   "title_sidebar": "Contents",
   "toc_cell": false,
   "toc_position": {},
   "toc_section_display": true,
   "toc_window_display": false
  }
 },
 "nbformat": 4,
 "nbformat_minor": 4
}
