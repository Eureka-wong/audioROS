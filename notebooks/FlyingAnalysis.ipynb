{
 "cells": [
  {
   "cell_type": "code",
   "execution_count": null,
   "metadata": {},
   "outputs": [],
   "source": [
    "import math\n",
    "import sys\n",
    "\n",
    "import IPython\n",
    "import IPython.display as ipd\n",
    "import matplotlib.pylab as plt\n",
    "import numpy as np\n",
    "import pandas as pd\n",
    "\n",
    "%reload_ext autoreload\n",
    "%autoreload 2\n",
    "\n",
    "%matplotlib inline\n",
    "#%matplotlib notebook\n",
    "\n",
    "from matplotlib import rcParams\n",
    "rcParams[\"figure.max_open_warning\"] = False"
   ]
  },
  {
   "cell_type": "code",
   "execution_count": null,
   "metadata": {},
   "outputs": [],
   "source": [
    "from wall_analysis import parse_experiments\n",
    "#exp_name = '2020_12_18_stepper'; appendix = \"\"; distance = 51\n",
    "#exp_name = '2020_12_18_flying'; appendix=\"_new\"; distance = 0\n",
    "exp_name = '2021_03_01_flying'; appendix=\"_30cm-glass\";\n",
    "fname = f'../experiments/{exp_name}/all_data.pkl'\n",
    "\n",
    "try:\n",
    "    df_total = pd.read_pickle(fname)\n",
    "    print('read', fname)\n",
    "except:\n",
    "    answer = input('Run wall_analysis.py to parse experiments? (y/[n])') or 'n'\n",
    "    if answer == 'y':\n",
    "        df_total = parse_experiments(exp_name)\n",
    "        pd.to_pickle(df_total, fname)\n",
    "        print('saved', fname)"
   ]
  },
  {
   "cell_type": "code",
   "execution_count": null,
   "metadata": {},
   "outputs": [],
   "source": [
    "df_total"
   ]
  },
  {
   "cell_type": "code",
   "execution_count": null,
   "metadata": {},
   "outputs": [],
   "source": [
    "import seaborn as sns\n",
    "\n",
    "max_dist = 50 # cm\n",
    "for i, row in df_total.iterrows():\n",
    "\n",
    "    positions_cm = row.positions[:, :3] * 100\n",
    "    \n",
    "    fig, axs = plt.subplots(1, 3) \n",
    "    fig.set_size_inches(10, 3.3)\n",
    "    fig.suptitle(row.appendix, y=1.0)\n",
    "    \n",
    "    #axs[0].plot(x=positions_cm[:, 0], y=positions_cm[:, 1], color=colors())\n",
    "    sns.scatterplot(x=positions_cm[:, 0], y=positions_cm[:, 1], \n",
    "                    hue=row.seconds, ax=axs[0], linewidth=0, \n",
    "                    #size=positions_cm[:, 2],\n",
    "                    palette='inferno')\n",
    "    axs[0].set_xlabel('x [cm]')\n",
    "    axs[0].set_ylabel('y [cm]')\n",
    "    axs[0].set_xlim(-max_dist/2, max_dist/2)\n",
    "    axs[0].set_ylim(-max_dist/2, max_dist/2)\n",
    "    axs[0].legend(loc='lower right')\n",
    "\n",
    "    axs[1].plot(row.seconds, positions_cm[:, 0], label='x')\n",
    "    axs[1].plot(row.seconds, positions_cm[:, 1], label='y')\n",
    "    axs[1].plot(row.seconds, positions_cm[:, 2], label='z')\n",
    "    axs[1].set_xlabel('time [s]')\n",
    "    axs[1].set_ylabel('movement [cm]')\n",
    "    axs[1].set_ylim(-max_dist, max_dist)\n",
    "    axs[1].legend(loc='lower right')\n",
    "\n",
    "    axs[2].plot(row.seconds, row.positions[:, 3], label='yaw')\n",
    "    axs[2].set_ylabel('yaw [deg]')\n",
    "    axs[2].set_xlabel('time [s]')\n",
    "    axs[2].set_ylim(-20, 20)\n",
    "    axs[2].legend(loc='lower right')\n",
    "\n",
    "    plt.tight_layout()"
   ]
  },
  {
   "cell_type": "markdown",
   "metadata": {},
   "source": [
    "# Analysis"
   ]
  },
  {
   "cell_type": "code",
   "execution_count": null,
   "metadata": {},
   "outputs": [],
   "source": [
    "from frequency_analysis import add_spectrogram\n",
    "\n",
    "df_total = df_total.assign(spectrogram=None)\n",
    "df_total = df_total.apply(add_spectrogram, axis=1)\n",
    "\n",
    "print(df_total.appendix.unique())\n",
    "print(df_total.source.unique())\n",
    "print(df_total.distance.unique())"
   ]
  },
  {
   "cell_type": "code",
   "execution_count": null,
   "metadata": {
    "scrolled": false
   },
   "outputs": [],
   "source": [
    "mic_idx = 0\n",
    "min_freq = 2900 \n",
    "max_freq = 5000\n",
    "\n",
    "#maxi = np.nanmax(np.concatenate([*dfs.spectrogram], axis=1))\n",
    "fig2, ax_tot = plt.subplots()\n",
    "fig2.set_size_inches(10, 5)\n",
    "for i_col, row in df_total.iterrows():\n",
    "    all_frequencies = np.unique(row.frequencies_matrix)\n",
    "    spec = row.spectrogram[:, mic_idx, :]\n",
    "    spec[spec == 0] = np.nan\n",
    "    total = np.nanmean(spec, axis=1)\n",
    "    \n",
    "    label = str(f\"{row.appendix}\").replace('_', '')\n",
    "    fig, ax = plt.subplots()\n",
    "    fig.suptitle(f'spectrogram of mic{mic_idx}, appendix {row.appendix}')\n",
    "    fig.set_size_inches(10, 5)\n",
    "    ax.pcolorfast(row.seconds, \n",
    "                  all_frequencies, spec[:-1, :-1])\n",
    "    ax.set_ylabel('frequency [Hz]')\n",
    "    ax.set_ylim(min_freq, max_freq)\n",
    "    \n",
    "    ax_tot.plot(all_frequencies, total, color=f\"C{i_col}\", label=label)\n",
    "ax_tot.legend(loc='upper right')\n",
    "#ax_tot.set_ylim(0, 3)\n",
    "ax_tot.set_yscale('log')\n",
    "ax_tot.set_xlim(min_freq, max_freq)"
   ]
  },
  {
   "cell_type": "code",
   "execution_count": null,
   "metadata": {
    "scrolled": false
   },
   "outputs": [],
   "source": [
    "from wall_detector import WallDetector, get_probability_cost, get_probability_fft\n",
    "\n",
    "fig, ax_slices = plt.subplots()\n",
    "fig.set_size_inches(10, 5)\n",
    "fig, ax_proba_cost = plt.subplots()\n",
    "fig.set_size_inches(10, 5)\n",
    "fig, ax_proba_fft = plt.subplots()\n",
    "fig.set_size_inches(10, 5)\n",
    "\n",
    "distances_grid = np.arange(10, 60)\n",
    "\n",
    "for i_col, row in df_total.iterrows():\n",
    "    wall_detector = WallDetector(exp_name=exp_name)\n",
    "    spec_masked, freqs_masked = wall_detector.fill_from_row(row)\n",
    "    \n",
    "    spec = spec_masked[:, mic_idx, :]\n",
    "    spec[spec == 0] = np.nan\n",
    "    \n",
    "    label = str(f\"{row.appendix}\").replace('_', '')\n",
    "    fig, ax = plt.subplots()\n",
    "    fig.suptitle(f'spectrogram of mic{mic_idx}, appendix {row.appendix}')\n",
    "    fig.set_size_inches(10, 5)\n",
    "    ax.pcolorfast(row.seconds, \n",
    "                  freqs_masked, spec[:-1, :-1])\n",
    "    ax.set_ylabel('frequency [Hz]')\n",
    "    ax.set_ylim(min_freq, max_freq)\n",
    "    \n",
    "    wall_detector.remove_bad_freqs(verbose=True)\n",
    "    wall_detector.remove_spurious_freqs(verbose=True)\n",
    "    f_slice, freqs = wall_detector.get_frequency_slice()\n",
    "    ax_slices.plot(freqs, f_slice[mic_idx, :], label=label)\n",
    "    \n",
    "    proba_cost = get_probability_cost(\n",
    "        f_slice[mic_idx, :], freqs, distances_grid, mic_idx=mic_idx\n",
    "    )\n",
    "    distances_fft, proba_fft = get_probability_fft(f_slice[mic_idx, :], freqs)\n",
    "    \n",
    "    ax_proba_cost.plot(distances_grid, proba_cost, label=label, color=f'C{i_col}')\n",
    "    ax_proba_fft.plot(distances_fft, proba_fft, label=label, color=f'C{i_col}', ls=':')\n",
    "    \n",
    "ax_proba_fft.set_xlim(min(distances_grid), max(distances_grid))\n",
    "\n",
    "ax_slices.legend(loc='upper left')\n",
    "ax_proba_fft.legend(loc='upper left')\n",
    "ax_proba_cost.legend(loc='upper left')"
   ]
  },
  {
   "cell_type": "code",
   "execution_count": null,
   "metadata": {},
   "outputs": [],
   "source": []
  },
  {
   "cell_type": "code",
   "execution_count": null,
   "metadata": {},
   "outputs": [],
   "source": []
  }
 ],
 "metadata": {
  "kernelspec": {
   "display_name": "Python 3",
   "language": "python",
   "name": "python3"
  },
  "language_info": {
   "codemirror_mode": {
    "name": "ipython",
    "version": 3
   },
   "file_extension": ".py",
   "mimetype": "text/x-python",
   "name": "python",
   "nbconvert_exporter": "python",
   "pygments_lexer": "ipython3",
   "version": "3.6.9"
  },
  "toc": {
   "base_numbering": 1,
   "nav_menu": {},
   "number_sections": true,
   "sideBar": true,
   "skip_h1_title": false,
   "title_cell": "Table of Contents",
   "title_sidebar": "Contents",
   "toc_cell": false,
   "toc_position": {},
   "toc_section_display": true,
   "toc_window_display": false
  }
 },
 "nbformat": 4,
 "nbformat_minor": 4
}
