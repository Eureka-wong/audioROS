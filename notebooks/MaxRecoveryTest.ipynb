{
 "cells": [
  {
   "cell_type": "code",
   "execution_count": null,
   "metadata": {},
   "outputs": [],
   "source": [
    "import numpy as np\n",
    "import matplotlib.pylab as plt"
   ]
  },
  {
   "cell_type": "code",
   "execution_count": null,
   "metadata": {},
   "outputs": [],
   "source": [
    "FS = 32000\n",
    "N_BUFFER = 2048\n",
    "N_FREQS = 32\n",
    "\n",
    "f = 510\n",
    "times = np.arange(0, 1, 1/FS)\n",
    "signal_t = np.sin(2*np.pi*f*times)\n",
    "\n",
    "buffer_t = signal_t[:N_BUFFER]\n",
    "plt.scatter(times[:N_BUFFER], buffer_t, s=1.0)\n",
    "plt.xlim(0, 1/f)"
   ]
  },
  {
   "cell_type": "code",
   "execution_count": null,
   "metadata": {},
   "outputs": [],
   "source": [
    "buffer_f = 1 / N_BUFFER * np.fft.rfft(buffer_t)\n",
    "freq = np.fft.rfftfreq(N_BUFFER, 1/FS)\n",
    "plt.scatter(freq, np.abs(buffer_f))\n",
    "plt.xlim(0, f + 200)"
   ]
  },
  {
   "cell_type": "code",
   "execution_count": null,
   "metadata": {},
   "outputs": [],
   "source": [
    "f_bin = round(f * N_BUFFER / FS)\n",
    "bins = np.arange(f_bin - N_FREQS / 2, f_bin + N_FREQS / 2).astype(np.int)\n",
    "\n",
    "plt.scatter(freq[bins], np.abs(buffer_f[bins]))"
   ]
  },
  {
   "cell_type": "code",
   "execution_count": null,
   "metadata": {},
   "outputs": [],
   "source": [
    "buffer_f_trunc = np.zeros(N_BUFFER // 2 + 1, dtype=np.complex)\n",
    "buffer_f_trunc[bins] = buffer_f[bins]"
   ]
  },
  {
   "cell_type": "code",
   "execution_count": null,
   "metadata": {},
   "outputs": [],
   "source": [
    "buffer_t_trunc = np.fft.irfft(buffer_f_trunc, n=N_BUFFER)"
   ]
  },
  {
   "cell_type": "code",
   "execution_count": null,
   "metadata": {},
   "outputs": [],
   "source": [
    "plt.scatter(times[:N_BUFFER], buffer_t_trunc)\n",
    "plt.xlim(0, 2/f)"
   ]
  },
  {
   "cell_type": "code",
   "execution_count": null,
   "metadata": {},
   "outputs": [],
   "source": [
    "pad_factor = 10\n",
    "buffer_f_cont = np.fft.rfft(buffer_t_trunc, n=pad_factor*N_BUFFER)\n",
    "freq_cont = np.fft.rfftfreq(pad_factor*N_BUFFER, d=1/FS)"
   ]
  },
  {
   "cell_type": "code",
   "execution_count": null,
   "metadata": {},
   "outputs": [],
   "source": [
    "plt.plot(freq_cont, np.abs(buffer_f_cont))\n",
    "plt.scatter(freq, np.abs(buffer_f))\n",
    "plt.xlim(0, f + 200)"
   ]
  },
  {
   "cell_type": "code",
   "execution_count": null,
   "metadata": {},
   "outputs": [],
   "source": []
  }
 ],
 "metadata": {
  "kernelspec": {
   "display_name": "Python 3",
   "language": "python",
   "name": "python3"
  },
  "language_info": {
   "codemirror_mode": {
    "name": "ipython",
    "version": 3
   },
   "file_extension": ".py",
   "mimetype": "text/x-python",
   "name": "python",
   "nbconvert_exporter": "python",
   "pygments_lexer": "ipython3",
   "version": "3.6.9"
  },
  "toc": {
   "base_numbering": 1,
   "nav_menu": {},
   "number_sections": true,
   "sideBar": true,
   "skip_h1_title": false,
   "title_cell": "Table of Contents",
   "title_sidebar": "Contents",
   "toc_cell": false,
   "toc_position": {},
   "toc_section_display": true,
   "toc_window_display": false
  }
 },
 "nbformat": 4,
 "nbformat_minor": 4
}
