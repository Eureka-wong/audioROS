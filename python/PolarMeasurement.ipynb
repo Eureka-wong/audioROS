{
 "cells": [
  {
   "cell_type": "code",
   "execution_count": null,
   "metadata": {},
   "outputs": [],
   "source": [
    "import IPython\n",
    "import IPython.display as ipd\n",
    "import matplotlib.pylab as plt\n",
    "import numpy as np\n",
    "import pandas as pd\n",
    "\n",
    "%reload_ext autoreload\n",
    "%autoreload 2\n",
    "\n",
    "%matplotlib inline\n",
    "#%matplotlib notebook\n",
    "\n",
    "from matplotlib import rcParams\n",
    "\n",
    "rcParams[\"figure.max_open_warning\"] = False\n",
    "rcParams[\"font.family\"] = 'DejaVu Sans'\n",
    "rcParams[\"font.size\"] = 12"
   ]
  },
  {
   "cell_type": "code",
   "execution_count": null,
   "metadata": {},
   "outputs": [],
   "source": [
    "from wall_analysis import parse_experiments\n",
    "\n",
    "exp_name = '2021_09_23_polar_measurement'\n",
    "\n",
    "all_df = parse_experiments(exp_name, verbose=False)\n",
    "all_df"
   ]
  },
  {
   "cell_type": "code",
   "execution_count": null,
   "metadata": {},
   "outputs": [],
   "source": [
    "plot_spec = True\n",
    "mic_idx = 1 # facing speaker\n",
    "#mic_idx = 3 # away from speaker\n",
    "\n",
    "for motors, df_motor in all_df.groupby('motors'):\n",
    "    fig, ax = plt.subplots()\n",
    "    for source, df in df_motor.groupby('source'):\n",
    "        angles = []\n",
    "        amplitudes = []\n",
    "\n",
    "        for angle, df_angle in df.groupby('degree'):\n",
    "            row = df_angle.iloc[0]\n",
    "            \n",
    "            angles.append(angle)\n",
    "\n",
    "            stft = np.abs(row.stft) # times x n_mics x n_mics\n",
    "            spectrogram = stft[:, mic_idx, :].T # freqs x times\n",
    "            freqs = row.frequencies_matrix[0, :]\n",
    "\n",
    "            energy = np.sum(spectrogram, axis=0)\n",
    "            max_energy = np.max(energy)\n",
    "            start = np.where(energy > 0.1 * max_energy)[0][0]\n",
    "            cutoff = np.where(energy < 0.1 * max_energy)[0]\n",
    "            cutoff = cutoff[cutoff > start][0]\n",
    "            \n",
    "            if plot_spec:\n",
    "                fig, ax_spec = plt.subplots()\n",
    "                ax_spec.pcolorfast(row.seconds, freqs, spectrogram[:-1, :-1])\n",
    "                ax_spec.set_title(f'angle {angle}, source {source}')\n",
    "                ax_spec.axvline(row.seconds[start], color='white')\n",
    "                ax_spec.axvline(row.seconds[cutoff], color='white')\n",
    "            \n",
    "            amplitude = np.mean(np.max(spectrogram[:, start:cutoff], axis=0))\n",
    "            amplitudes.append(amplitude)\n",
    "            \n",
    "        ax.plot(angles, amplitudes, label=source)\n",
    "    ax.set_xlabel('angle [deg]')\n",
    "    ax.set_ylabel('average maximum amplitude')\n",
    "    ax.legend(title='source', loc='upper right')\n",
    "    ax.set_title(f'motors {motors}')"
   ]
  },
  {
   "cell_type": "code",
   "execution_count": null,
   "metadata": {},
   "outputs": [],
   "source": []
  }
 ],
 "metadata": {
  "kernelspec": {
   "display_name": "Python 3",
   "language": "python",
   "name": "python3"
  },
  "language_info": {
   "codemirror_mode": {
    "name": "ipython",
    "version": 3
   },
   "file_extension": ".py",
   "mimetype": "text/x-python",
   "name": "python",
   "nbconvert_exporter": "python",
   "pygments_lexer": "ipython3",
   "version": "3.6.9"
  },
  "toc": {
   "base_numbering": 1,
   "nav_menu": {},
   "number_sections": true,
   "sideBar": true,
   "skip_h1_title": false,
   "title_cell": "Table of Contents",
   "title_sidebar": "Contents",
   "toc_cell": false,
   "toc_position": {},
   "toc_section_display": true,
   "toc_window_display": false
  }
 },
 "nbformat": 4,
 "nbformat_minor": 4
}
