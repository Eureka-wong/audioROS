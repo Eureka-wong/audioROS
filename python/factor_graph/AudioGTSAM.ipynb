{
 "cells": [
  {
   "cell_type": "code",
   "execution_count": null,
   "metadata": {},
   "outputs": [],
   "source": [
    "%reload_ext autoreload\n",
    "%autoreload 2\n",
    "\n",
    "#%matplotlib notebook\n",
    "%matplotlib inline\n",
    "\n",
    "import numpy as np\n",
    "import matplotlib.pylab as plt\n",
    "\n",
    "import gtsam"
   ]
  },
  {
   "cell_type": "markdown",
   "metadata": {},
   "source": [
    "# Wall detection: passing wall distance and/or angle estimates into GTSAM\n",
    "\n",
    "Idea is to pass distance / angle estimates obtained from audio, to the drone"
   ]
  },
  {
   "cell_type": "code",
   "execution_count": null,
   "metadata": {},
   "outputs": [],
   "source": [
    "## TODO(FD) adopt below example to a simple use cases with wall measurements and multimodal \n",
    "## probability distributions\n",
    "import sys\n",
    "sys.path.append('../../src/audio_gtsam/')\n",
    "from audio_gtsam.wall_backend import WallBackend\n",
    "from helpers import WallSimulation, plot_all\n",
    "\n",
    "times = np.arange(10)\n",
    "\n",
    "wall_backend = WallBackend()\n",
    "\n",
    "plane = gtsam.OrientedPlane3(gtsam.Unit3([0, -1.0, 0]), 1)\n",
    "pose_0 = gtsam.Pose3()\n",
    "wall_simulation = WallSimulation()\n",
    "wall_simulation.initialize(plane, pose_0)\n",
    "\n",
    "for t, time in enumerate(times):\n",
    "    wall_simulation.move_until_time(time)\n",
    "    \n",
    "    pose_t = wall_simulation.measure_pose()\n",
    "    #pose_t = wall_simulation.expected_pose()\n",
    "    \n",
    "    plane_meas, azimuth, elevation, distance = wall_simulation.measure_plane()\n",
    "    \n",
    "    #print(f\"prior factor with {pose_t.translation()}\")\n",
    "    wall_backend.add_pose(r_world=pose_t.translation(), \n",
    "                          yaw=pose_t.rotation().yaw())\n",
    "    wall_angle = 180 + azimuth * 180 / np.pi \n",
    "    print(f\"adding plane measurement: {distance*100:.0f}cm {wall_angle:5.0f}deg\")\n",
    "    wall_backend.add_plane(distance, azimuth, elevation)\n",
    "    \n",
    "    planes, poses = wall_backend.get_results()\n",
    "    #plot_all(new_result, top=False, side=False)\n",
    "    #plt.show()\n",
    "plot_all(wall_backend.result, top=False, side=False)\n",
    "plt.show()"
   ]
  },
  {
   "cell_type": "markdown",
   "metadata": {},
   "source": [
    "# DOA algorithms: passing spatial spectrum into GTSAM\n",
    "\n",
    "Idea is to pass multiple sidelobes from spectrum as individual measurements to the same sound source.  "
   ]
  },
  {
   "cell_type": "code",
   "execution_count": null,
   "metadata": {},
   "outputs": [],
   "source": []
  },
  {
   "cell_type": "code",
   "execution_count": null,
   "metadata": {},
   "outputs": [],
   "source": []
  },
  {
   "cell_type": "code",
   "execution_count": null,
   "metadata": {},
   "outputs": [],
   "source": []
  }
 ],
 "metadata": {
  "kernelspec": {
   "display_name": "Python 3",
   "language": "python",
   "name": "python3"
  },
  "language_info": {
   "codemirror_mode": {
    "name": "ipython",
    "version": 3
   },
   "file_extension": ".py",
   "mimetype": "text/x-python",
   "name": "python",
   "nbconvert_exporter": "python",
   "pygments_lexer": "ipython3",
   "version": "3.6.9"
  },
  "toc": {
   "base_numbering": 1,
   "nav_menu": {},
   "number_sections": true,
   "sideBar": true,
   "skip_h1_title": false,
   "title_cell": "Table of Contents",
   "title_sidebar": "Contents",
   "toc_cell": false,
   "toc_position": {},
   "toc_section_display": true,
   "toc_window_display": false
  }
 },
 "nbformat": 4,
 "nbformat_minor": 4
}
