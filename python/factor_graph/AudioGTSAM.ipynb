{
 "cells": [
  {
   "cell_type": "code",
   "execution_count": null,
   "metadata": {},
   "outputs": [],
   "source": [
    "%reload_ext autoreload\n",
    "%autoreload 2\n",
    "\n",
    "#%matplotlib notebook\n",
    "%matplotlib inline\n",
    "\n",
    "import numpy as np\n",
    "import matplotlib.pylab as plt\n",
    "\n",
    "import gtsam"
   ]
  },
  {
   "cell_type": "markdown",
   "metadata": {},
   "source": [
    "# Wall detection: passing wall distance and/or angle estimates into GTSAM\n",
    "\n",
    "Idea is to pass distance / angle estimates obtained from audio, to the drone"
   ]
  },
  {
   "cell_type": "markdown",
   "metadata": {},
   "source": [
    "## TODO:\n",
    "\n",
    "- add ground truth in plots below\n",
    "- figure out way to deal with outliers"
   ]
  },
  {
   "cell_type": "code",
   "execution_count": null,
   "metadata": {},
   "outputs": [],
   "source": [
    "def get_distribution(estimate, range_=[0, 1], n_outliers=1, std=0.01):\n",
    "    import scipy.stats\n",
    "    # add noise to distance\n",
    "    estimate = np.random.normal(estimate, scale=std)\n",
    "    values = np.arange(*range_, step=0.01)\n",
    "    prob = np.zeros(len(values))\n",
    "    prob += scipy.stats.norm(estimate, std).pdf(values)\n",
    "    for _ in range(n_outliers):\n",
    "        outlier = np.random.uniform(*range_)\n",
    "        prob += scipy.stats.norm(outlier, 2*std).pdf(values)\n",
    "    prob /= np.sum(prob)\n",
    "    return values, prob\n",
    "\n",
    "def get_estimates(values, prob):\n",
    "    indices, __ = scipy.signal.find_peaks(prob)\n",
    "    estimates = values[indices]\n",
    "    stds = (values[1]-values[0]) / (prob[indices] * np.sqrt(2 * np.pi))\n",
    "    return estimates, stds"
   ]
  },
  {
   "cell_type": "code",
   "execution_count": null,
   "metadata": {},
   "outputs": [],
   "source": [
    "import sys\n",
    "sys.path.append('../../src/audio_gtsam/')\n",
    "from audio_gtsam.wall_backend import WallBackend\n",
    "from helpers import WallSimulation, plot_all\n",
    "import scipy.signal\n",
    "import itertools\n",
    "import plot\n",
    "\n",
    "times = np.linspace(0, 1, 3)\n",
    "n_outliers = 1\n",
    "\n",
    "wall_backend = WallBackend()\n",
    "\n",
    "plane = gtsam.OrientedPlane3(gtsam.Unit3([0, -1.0, 0]), 1)\n",
    "#pose_0 = gtsam.Pose3(t=gtsam.Point3(0, 0, 0), r=gtsam.Rot3.Ypr(30/180*np.pi, 0, 0))\n",
    "pose_0 = gtsam.Pose3()\n",
    "wall_simulation = WallSimulation()\n",
    "wall_simulation.initialize(plane, pose_0)\n",
    "wall_simulation.set_velocities(linear_m_s=0.1, yaw_deg_s=0)\n",
    "\n",
    "for t, time in enumerate(times):\n",
    "    wall_simulation.move_until_time(time)\n",
    "    \n",
    "    pose_t = wall_simulation.real_pose()\n",
    "    #pose_t = wall_simulation.measure_pose()\n",
    "    #pose_t = wall_simulation.expected_pose()\n",
    "    \n",
    "    plane_meas, wall_angle, elevation, distance = wall_simulation.measure_plane()\n",
    "    \n",
    "    wall_backend.add_pose(r_world=pose_t.translation(), \n",
    "                          yaw=pose_t.rotation().yaw())\n",
    "    \n",
    "    # angle to wall as we measure it (between 0 and 2pi)\n",
    "    azimuth = np.pi + wall_angle\n",
    "    \n",
    "    distance_values, distance_prob = get_distribution(distance, [0, 1], n_outliers=n_outliers)\n",
    "    angle_values, angle_prob = get_distribution(azimuth, [0, 2*np.pi], n_outliers=0)\n",
    "    \n",
    "    fig, axs = plt.subplots(1, 2, sharey=True)\n",
    "    fig.set_size_inches(10, 3)\n",
    "    axs[0].plot(distance_values, distance_prob)\n",
    "    axs[0].set_ylabel('probability')\n",
    "    axs[0].set_xlabel('distance [m]')\n",
    "    axs[1].plot(angle_values * 180 / np.pi, angle_prob)\n",
    "    axs[1].set_xlabel('angle [deg]')\n",
    "    \n",
    "    distance_estimates, distance_stds = get_estimates(distance_values, distance_prob)\n",
    "    angle_estimates, angle_stds = get_estimates(angle_values, angle_prob)\n",
    "    #print(distance_estimates, angle_estimates)\n",
    "    \n",
    "    for d_i, a_i in itertools.product(range(len(distance_estimates)), \n",
    "                                    range(len(angle_estimates))):\n",
    "        distance = distance_estimates[d_i]\n",
    "        azimuth = angle_estimates[a_i]\n",
    "        noise = [distance_stds[d_i], angle_stds[a_i], 0]\n",
    "        \n",
    "        print(f\"add wall estimate at {distance*100:.1f}cm, {azimuth*180/np.pi:.0f}deg\")\n",
    "        \n",
    "        wall_angle = azimuth - np.pi\n",
    "        wall_backend.add_plane(distance, wall_angle, plane_noise=noise)\n",
    "        # add noise to angle\n",
    "        #print(f\"adding plane measurement: {distance*100:.0f}cm {wall_angle:5.0f}deg\")\n",
    "        #print(wall_backend.isam.getVariableIndex().nFactors())\n",
    "        #print(wall_backend.isam.getVariableIndex())\n",
    "        planes, poses = wall_backend.get_results()\n",
    "plt.show()\n",
    "\n",
    "plot_all(wall_backend.result, perspective=False, top=True, side=False)\n",
    "plot.plot_trajectory(2, wall_backend.result, ls=\":\")\n",
    "plt.show()"
   ]
  },
  {
   "cell_type": "markdown",
   "metadata": {},
   "source": [
    "# DOA algorithms: passing spatial spectrum into GTSAM\n",
    "\n",
    "Idea is to pass multiple sidelobes from spectrum as individual measurements to the same sound source.  "
   ]
  },
  {
   "cell_type": "code",
   "execution_count": null,
   "metadata": {},
   "outputs": [],
   "source": []
  },
  {
   "cell_type": "code",
   "execution_count": null,
   "metadata": {},
   "outputs": [],
   "source": []
  },
  {
   "cell_type": "code",
   "execution_count": null,
   "metadata": {},
   "outputs": [],
   "source": []
  }
 ],
 "metadata": {
  "kernelspec": {
   "display_name": "Python 3",
   "language": "python",
   "name": "python3"
  },
  "language_info": {
   "codemirror_mode": {
    "name": "ipython",
    "version": 3
   },
   "file_extension": ".py",
   "mimetype": "text/x-python",
   "name": "python",
   "nbconvert_exporter": "python",
   "pygments_lexer": "ipython3",
   "version": "3.6.9"
  },
  "toc": {
   "base_numbering": 1,
   "nav_menu": {},
   "number_sections": true,
   "sideBar": true,
   "skip_h1_title": false,
   "title_cell": "Table of Contents",
   "title_sidebar": "Contents",
   "toc_cell": false,
   "toc_position": {},
   "toc_section_display": true,
   "toc_window_display": false
  }
 },
 "nbformat": 4,
 "nbformat_minor": 4
}
